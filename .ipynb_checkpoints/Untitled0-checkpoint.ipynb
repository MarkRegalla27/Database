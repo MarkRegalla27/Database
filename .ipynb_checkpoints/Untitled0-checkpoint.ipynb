{
 "metadata": {
  "name": "",
  "signature": "sha256:2d3ac00063427adc1681c329435827e5486048a47b4a560e7c3cc104952c76ce"
 },
 "nbformat": 3,
 "nbformat_minor": 0,
 "worksheets": []
}